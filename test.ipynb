{
 "cells": [
  {
   "cell_type": "code",
   "execution_count": null,
   "metadata": {},
   "outputs": [],
   "source": [
    "#Implement code to apply random modification etc to stuff\n",
    "\n",
    "#Two methods\n",
    "\n",
    "#Create a method via materials project api to convert chemical formula to atoms\n",
    "\n",
    "#Method 1: Give atom, random modification, and random inputs to modification, apply modification, and return atom\n",
    "\n",
    "#Method 2: Given chemical formula, convert to atom, choose random modification and input, apply it, convert back to chemical formula, and return all three objects.\n",
    "\n",
    "#Third will be the \"answer\""
   ]
  },
  {
   "cell_type": "code",
   "execution_count": 48,
   "metadata": {},
   "outputs": [
    {
     "data": {
      "text/plain": [
       "True"
      ]
     },
     "execution_count": 48,
     "metadata": {},
     "output_type": "execute_result"
    }
   ],
   "source": [
    "from ase import Atoms\n",
    "import os\n",
    "from ase.data import chemical_symbols\n",
    "from ase.build import molecule\n",
    "from pymatgen.io.ase import AseAtomsAdaptor\n",
    "import numpy as np\n",
    "from dotenv import load_dotenv\n",
    "from mp_api.client import MPRester\n",
    "import random\n",
    "\n",
    "load_dotenv()"
   ]
  },
  {
   "cell_type": "code",
   "execution_count": 28,
   "metadata": {},
   "outputs": [],
   "source": [
    "def convert_to_atom(chemical_formula):\n",
    "    with MPRester(os.getenv(\"MP_API_KEY\")) as mpr:\n",
    "            docs = mpr.materials.summary.search(\n",
    "                formula=chemical_formula,\n",
    "                fields=[\"structure\",\"formation_energy_per_atom\"]\n",
    "            )\n",
    "    if len(docs) == 0:\n",
    "          return None\n",
    "    elif len(docs) == 1:\n",
    "          pmg_structure = docs[0].structure\n",
    "          ase_atoms = AseAtomsAdaptor.get_atoms(pmg_structure, msonable=False)\n",
    "          return ase_atoms\n",
    "    else:\n",
    "          pmg_structure = min(docs,key=lambda x: x.formation_energy_per_atom).structure\n",
    "          ase_atoms = AseAtomsAdaptor.get_atoms(pmg_structure, msonable=False)\n",
    "          return ase_atoms\n",
    "          #Should it be ase_atoms are some asemoolece\n"
   ]
  },
  {
   "cell_type": "code",
   "execution_count": 31,
   "metadata": {},
   "outputs": [
    {
     "name": "stderr",
     "output_type": "stream",
     "text": [
      "Retrieving SummaryDoc documents: 100%|██████████| 4/4 [00:00<?, ?it/s]"
     ]
    },
    {
     "name": "stdout",
     "output_type": "stream",
     "text": [
      "Sr2Ti2O6\n"
     ]
    },
    {
     "name": "stderr",
     "output_type": "stream",
     "text": [
      "\n"
     ]
    }
   ],
   "source": [
    "mol = convert_to_atom('SrTiO3')\n",
    "\n",
    "print(mol.get_chemical_formula('metal'))"
   ]
  },
  {
   "cell_type": "code",
   "execution_count": 102,
   "metadata": {},
   "outputs": [],
   "source": [
    "modifications = ['substitute','exchange','add','remove']\n",
    "#input_moecule in ase molecule format\n",
    "#operation oen of the four modifications\n",
    "#mod_params either one atom or a tuple/list of two, depending on op\n",
    "\n",
    "def random_3d_point_within_cell(v1, v2, v3):\n",
    "        # Compute the volume of the parallelepiped\n",
    "        volume = np.abs(np.dot(v1, np.cross(v2, v3)))\n",
    "        \n",
    "        # Generate random numbers\n",
    "        r1, r2 = np.random.rand(2)\n",
    "        r3 = np.random.rand() * (1 - r1 - r2)\n",
    "        \n",
    "        # Calculate the random point\n",
    "        random_point = r1 * v1 + r2 * v2 + r3 * v3\n",
    "        \n",
    "        return random_point\n",
    "\n",
    "def apply_modification(input_molecule,operation,mod_params):\n",
    "\n",
    "    chemical_symbols = input_molecule.get_chemical_symbols()\n",
    "    cell = input_molecule.get_cell()\n",
    "    positions = input_molecule.get_positions()\n",
    "    if operation == \"substitute\":\n",
    "        atom1, atom2 = mod_params\n",
    "        new_symbols = [atom2 if x == atom1 else x for x in chemical_symbols]\n",
    "        new_positions = positions\n",
    "    elif operation == \"exchange\":\n",
    "        atom1, atom2 = mod_params\n",
    "        new_symbols = [atom2 if x == atom1 else atom1 if x == atom2 else x for x in chemical_symbols]\n",
    "        new_positions = positions\n",
    "    elif operation == \"add\":\n",
    "        atom = mod_params[0]\n",
    "        new_symbols = chemical_symbols + [atom]\n",
    "        new_positions = np.vstack(\n",
    "                (\n",
    "                    positions,\n",
    "                    random_3d_point_within_cell(cell[0], cell[1], cell[2])\n",
    "                )\n",
    "            )\n",
    "    elif operation == \"remove\":\n",
    "        atom = mod_params[0]\n",
    "        new_symbols = [x for x in chemical_symbols if x != atom]\n",
    "        new_positions = positions[[x != atom for x in chemical_symbols]]\n",
    "\n",
    "    else:\n",
    "        ValueError(f\"Invalid modification type: {operation}\")\n",
    "\n",
    "    new_molecule = Atoms(\n",
    "                symbols=new_symbols,\n",
    "                positions=new_positions,\n",
    "                cell=cell,\n",
    "                pbc=(True, True, True)\n",
    "            )\n",
    "    return new_molecule\n",
    "\n",
    "    "
   ]
  },
  {
   "cell_type": "code",
   "execution_count": 111,
   "metadata": {},
   "outputs": [],
   "source": [
    "def apply_random_mod(input_formula):\n",
    "    input_mol = convert_to_atom(input_formula)\n",
    "    mod = random.choice(modifications)\n",
    "    present_symbols = list(set(input_mol.get_chemical_symbols()))\n",
    "    if mod == \"add\": \n",
    "        mod_param = [random.choice(chemical_symbols)]\n",
    "    elif mod == \"remove\":\n",
    "        mod_param = [random.choice(present_symbols)]\n",
    "    elif mod == \"exchange\":\n",
    "        mod_param = random.sample(present_symbols,2)\n",
    "    else:\n",
    "        mod_param =[random.choice(present_symbols),random.choice(chemical_symbols)]\n",
    "\n",
    "    new_mol = apply_modification(input_mol,mod,mod_param)\n",
    "\n",
    "    output_formula = new_mol.get_chemical_formula('metal')\n",
    "    return (input_formula,output_formula,[mod] + mod_param)\n"
   ]
  },
  {
   "cell_type": "code",
   "execution_count": 125,
   "metadata": {},
   "outputs": [
    {
     "name": "stderr",
     "output_type": "stream",
     "text": [
      "Retrieving SummaryDoc documents: 100%|██████████| 4/4 [00:00<?, ?it/s]"
     ]
    },
    {
     "name": "stdout",
     "output_type": "stream",
     "text": [
      "('SrTiO3', 'CoSr2Ti2O6', ['add', 'Co'])\n"
     ]
    },
    {
     "name": "stderr",
     "output_type": "stream",
     "text": [
      "\n"
     ]
    }
   ],
   "source": [
    "\n",
    "out = apply_random_mod('SrTiO3')\n",
    "print(out)"
   ]
  },
  {
   "cell_type": "code",
   "execution_count": 115,
   "metadata": {},
   "outputs": [
    {
     "name": "stdout",
     "output_type": "stream",
     "text": [
      "('SrTiO3', 'Sr2Ti2', ['remove', 'O'])\n"
     ]
    }
   ],
   "source": []
  },
  {
   "cell_type": "code",
   "execution_count": 62,
   "metadata": {},
   "outputs": [
    {
     "name": "stderr",
     "output_type": "stream",
     "text": [
      "Retrieving SummaryDoc documents: 100%|██████████| 4/4 [00:00<?, ?it/s]\n"
     ]
    }
   ],
   "source": [
    "input_mol = convert_to_atom('SrTiO3')\n"
   ]
  },
  {
   "cell_type": "code",
   "execution_count": 65,
   "metadata": {},
   "outputs": [
    {
     "name": "stdout",
     "output_type": "stream",
     "text": [
      "['Sr', 'Sr', 'Ti', 'Ti', 'O', 'O', 'O', 'O', 'O', 'O']\n"
     ]
    }
   ],
   "source": [
    "print(input_mol.get_chemical_symbols())"
   ]
  },
  {
   "cell_type": "code",
   "execution_count": null,
   "metadata": {},
   "outputs": [],
   "source": []
  }
 ],
 "metadata": {
  "kernelspec": {
   "display_name": "LLMATDESIGN",
   "language": "python",
   "name": "python3"
  },
  "language_info": {
   "codemirror_mode": {
    "name": "ipython",
    "version": 3
   },
   "file_extension": ".py",
   "mimetype": "text/x-python",
   "name": "python",
   "nbconvert_exporter": "python",
   "pygments_lexer": "ipython3",
   "version": "3.12.7"
  }
 },
 "nbformat": 4,
 "nbformat_minor": 2
}
